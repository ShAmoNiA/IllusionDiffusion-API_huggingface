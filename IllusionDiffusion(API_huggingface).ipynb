{
  "nbformat": 4,
  "nbformat_minor": 0,
  "metadata": {
    "colab": {
      "provenance": []
    },
    "kernelspec": {
      "name": "python3",
      "display_name": "Python 3"
    },
    "language_info": {
      "name": "python"
    }
  },
  "cells": [
    {
      "cell_type": "code",
      "source": [
        "import random\n",
        "session_hash = str(random.randint(1, 1000000))"
      ],
      "metadata": {
        "id": "LO5BpYLeM7by"
      },
      "execution_count": 61,
      "outputs": []
    },
    {
      "cell_type": "code",
      "source": [
        "import requests\n",
        "\n",
        "url = 'https://ap123-illusiondiffusion.hf.space/--replicas/a4gtd/upload?upload_id=Parham'\n",
        "\n",
        "with open('/content/portrait-of-scarlet-macaw.jpg', 'rb') as file:\n",
        "    files = {'files': file}\n",
        "    response = requests.post(url, files=files)\n",
        "\n",
        "if response.status_code == 200:\n",
        "    print(response.json())\n",
        "    image_tmp = response.json()[0]\n",
        "else:\n",
        "    print(\"Error:\", response.status_code)\n"
      ],
      "metadata": {
        "colab": {
          "base_uri": "https://localhost:8080/"
        },
        "id": "zf5TlR2mKxXX",
        "outputId": "28fc2ee9-3c20-4d85-d1ad-3714b08a5090"
      },
      "execution_count": 62,
      "outputs": [
        {
          "output_type": "stream",
          "name": "stdout",
          "text": [
            "['/tmp/gradio/80857eccd02bce6705ee6fd4e755df63b4c50c1c/portrait-of-scarlet-macaw.jpg']\n"
          ]
        }
      ]
    },
    {
      "cell_type": "code",
      "execution_count": 63,
      "metadata": {
        "colab": {
          "base_uri": "https://localhost:8080/"
        },
        "id": "-Ejy6E7GKc0S",
        "outputId": "db9c650d-3a56-47cd-eccf-fb77b9498f01"
      },
      "outputs": [
        {
          "output_type": "stream",
          "name": "stdout",
          "text": [
            "{'data': [], 'is_generating': False, 'duration': 0.0007414817810058594, 'average_duration': 0.0017826351621515382}\n"
          ]
        }
      ],
      "source": [
        "import requests\n",
        "\n",
        "url = 'https://ap123-illusiondiffusion.hf.space/--replicas/a4gtd/run/predict?__theme=light'\n",
        "\n",
        "payload = {\n",
        "    \"data\": [\n",
        "        \"make this bird as a illusion\", #Prompt\n",
        "        {\n",
        "            \"path\": image_tmp,\n",
        "            \"url\": \"https://ap123-illusiondiffusion.hf.space/--replicas/a4gtd/file=\"+image_tmp,\n",
        "            \"orig_name\": \"portrait-of-scarlet-macaw,jpg\",\n",
        "            \"size\": 83751,\n",
        "            \"mime_type\": \"\"\n",
        "        }\n",
        "    ],\n",
        "    \"event_data\": None,\n",
        "    \"fn_index\": 3,\n",
        "    \"trigger_id\": 20,\n",
        "    \"session_hash\": session_hash\n",
        "}\n",
        "\n",
        "\n",
        "response = requests.post(url, json=payload)\n",
        "\n",
        "if response.status_code == 200:\n",
        "    print(response.json())\n",
        "else:\n",
        "    print(\"Error:\", response.status_code)\n"
      ]
    },
    {
      "cell_type": "code",
      "source": [
        "import requests\n",
        "\n",
        "url = 'https://ap123-illusiondiffusion.hf.space/--replicas/a4gtd/queue/join?__theme=light'\n",
        "\n",
        "payload = {\n",
        "    \"data\": [\n",
        "        {\n",
        "            \"path\": image_tmp,\n",
        "            \"url\": \"https://ap123-illusiondiffusion.hf.space/--replicas/a4gtd/file=\"+image_tmp,\n",
        "            \"orig_name\": \"Screenshot 2024-02-10 215902.png\",\n",
        "            \"size\": 83751,\n",
        "            \"mime_type\": \"\"\n",
        "        },\n",
        "        \"make this bird as a illusion\", #Prompt\n",
        "        \"low quality\", #Negative Prompt\n",
        "        7.5, #Guidance Scale(0-50)\n",
        "        0.8, #Illusion strength(0-5)\n",
        "        0, #Start of ControlNet(0-1)\n",
        "        1, #End of ControlNet(0-1)\n",
        "        1, #Strength of the upscaler(0-1)\n",
        "        -1, #Seed(-1,9999999999)\n",
        "        \"Euler\" #Dropdown\n",
        "    ],\n",
        "    \"event_data\": None,\n",
        "    \"fn_index\": 4,\n",
        "    \"trigger_id\": 20,\n",
        "    \"session_hash\": session_hash\n",
        "}\n",
        "\n",
        "\n",
        "\n",
        "response = requests.post(url, json=payload)\n",
        "\n",
        "if response.status_code == 200:\n",
        "    print(response.json())\n",
        "else:\n",
        "    print(\"Error:\", response.status_code)\n"
      ],
      "metadata": {
        "colab": {
          "base_uri": "https://localhost:8080/"
        },
        "id": "XWvgJk4SML0g",
        "outputId": "9f24ba86-80e6-4df7-acfa-b298eeea13ca"
      },
      "execution_count": 64,
      "outputs": [
        {
          "output_type": "stream",
          "name": "stdout",
          "text": [
            "{'event_id': 'eddbf05f1b88400888471fe848af8b04'}\n"
          ]
        }
      ]
    },
    {
      "cell_type": "code",
      "source": [
        "import requests\n",
        "\n",
        "url = 'https://ap123-illusiondiffusion.hf.space/--replicas/a4gtd/queue/data?session_hash='+session_hash\n",
        "\n",
        "response = requests.get(url)\n",
        "\n",
        "if response.status_code == 200:\n",
        "    print(response.text)\n",
        "else:\n",
        "    print(\"Error:\", response.status_code)\n"
      ],
      "metadata": {
        "colab": {
          "base_uri": "https://localhost:8080/"
        },
        "id": "osD1bgi3Mclt",
        "outputId": "9aab3501-8b3f-492d-844c-1c16074d8e14"
      },
      "execution_count": 65,
      "outputs": [
        {
          "output_type": "stream",
          "name": "stdout",
          "text": [
            "data: {\"msg\": \"estimation\", \"event_id\": \"eddbf05f1b88400888471fe848af8b04\", \"rank\": 0, \"queue_size\": 1, \"rank_eta\": 8.93743171914482}\n",
            "\n",
            "data: {\"msg\": \"process_starts\", \"event_id\": \"eddbf05f1b88400888471fe848af8b04\", \"eta\": 8.93743171914482}\n",
            "\n",
            "data: {\"msg\": \"progress\", \"event_id\": \"eddbf05f1b88400888471fe848af8b04\", \"progress_data\": [{\"index\": 0, \"length\": 15, \"unit\": \"steps\", \"progress\": null, \"desc\": null}]}\n",
            "\n",
            "data: {\"msg\": \"progress\", \"event_id\": \"eddbf05f1b88400888471fe848af8b04\", \"progress_data\": [{\"index\": 1, \"length\": 15, \"unit\": \"steps\", \"progress\": null, \"desc\": null}]}\n",
            "\n",
            "data: {\"msg\": \"progress\", \"event_id\": \"eddbf05f1b88400888471fe848af8b04\", \"progress_data\": [{\"index\": 3, \"length\": 15, \"unit\": \"steps\", \"progress\": null, \"desc\": null}]}\n",
            "\n",
            "data: {\"msg\": \"progress\", \"event_id\": \"eddbf05f1b88400888471fe848af8b04\", \"progress_data\": [{\"index\": 4, \"length\": 15, \"unit\": \"steps\", \"progress\": null, \"desc\": null}]}\n",
            "\n",
            "data: {\"msg\": \"progress\", \"event_id\": \"eddbf05f1b88400888471fe848af8b04\", \"progress_data\": [{\"index\": 6, \"length\": 15, \"unit\": \"steps\", \"progress\": null, \"desc\": null}]}\n",
            "\n",
            "data: {\"msg\": \"progress\", \"event_id\": \"eddbf05f1b88400888471fe848af8b04\", \"progress_data\": [{\"index\": 7, \"length\": 15, \"unit\": \"steps\", \"progress\": null, \"desc\": null}]}\n",
            "\n",
            "data: {\"msg\": \"progress\", \"event_id\": \"eddbf05f1b88400888471fe848af8b04\", \"progress_data\": [{\"index\": 8, \"length\": 15, \"unit\": \"steps\", \"progress\": null, \"desc\": null}]}\n",
            "\n",
            "data: {\"msg\": \"progress\", \"event_id\": \"eddbf05f1b88400888471fe848af8b04\", \"progress_data\": [{\"index\": 10, \"length\": 15, \"unit\": \"steps\", \"progress\": null, \"desc\": null}]}\n",
            "\n",
            "data: {\"msg\": \"progress\", \"event_id\": \"eddbf05f1b88400888471fe848af8b04\", \"progress_data\": [{\"index\": 11, \"length\": 15, \"unit\": \"steps\", \"progress\": null, \"desc\": null}]}\n",
            "\n",
            "data: {\"msg\": \"progress\", \"event_id\": \"eddbf05f1b88400888471fe848af8b04\", \"progress_data\": [{\"index\": 13, \"length\": 15, \"unit\": \"steps\", \"progress\": null, \"desc\": null}]}\n",
            "\n",
            "data: {\"msg\": \"progress\", \"event_id\": \"eddbf05f1b88400888471fe848af8b04\", \"progress_data\": [{\"index\": 14, \"length\": 15, \"unit\": \"steps\", \"progress\": null, \"desc\": null}]}\n",
            "\n",
            "data: {\"msg\": \"progress\", \"event_id\": \"eddbf05f1b88400888471fe848af8b04\", \"progress_data\": []}\n",
            "\n",
            "data: {\"msg\": \"progress\", \"event_id\": \"eddbf05f1b88400888471fe848af8b04\", \"progress_data\": [{\"index\": 0, \"length\": 20, \"unit\": \"steps\", \"progress\": null, \"desc\": null}]}\n",
            "\n",
            "data: {\"msg\": \"progress\", \"event_id\": \"eddbf05f1b88400888471fe848af8b04\", \"progress_data\": [{\"index\": 1, \"length\": 20, \"unit\": \"steps\", \"progress\": null, \"desc\": null}]}\n",
            "\n",
            "data: {\"msg\": \"progress\", \"event_id\": \"eddbf05f1b88400888471fe848af8b04\", \"progress_data\": [{\"index\": 2, \"length\": 20, \"unit\": \"steps\", \"progress\": null, \"desc\": null}]}\n",
            "\n",
            "data: {\"msg\": \"progress\", \"event_id\": \"eddbf05f1b88400888471fe848af8b04\", \"progress_data\": [{\"index\": 3, \"length\": 20, \"unit\": \"steps\", \"progress\": null, \"desc\": null}]}\n",
            "\n",
            "data: {\"msg\": \"progress\", \"event_id\": \"eddbf05f1b88400888471fe848af8b04\", \"progress_data\": [{\"index\": 4, \"length\": 20, \"unit\": \"steps\", \"progress\": null, \"desc\": null}]}\n",
            "\n",
            "data: {\"msg\": \"progress\", \"event_id\": \"eddbf05f1b88400888471fe848af8b04\", \"progress_data\": [{\"index\": 5, \"length\": 20, \"unit\": \"steps\", \"progress\": null, \"desc\": null}]}\n",
            "\n",
            "data: {\"msg\": \"progress\", \"event_id\": \"eddbf05f1b88400888471fe848af8b04\", \"progress_data\": [{\"index\": 6, \"length\": 20, \"unit\": \"steps\", \"progress\": null, \"desc\": null}]}\n",
            "\n",
            "data: {\"msg\": \"progress\", \"event_id\": \"eddbf05f1b88400888471fe848af8b04\", \"progress_data\": [{\"index\": 7, \"length\": 20, \"unit\": \"steps\", \"progress\": null, \"desc\": null}]}\n",
            "\n",
            "data: {\"msg\": \"progress\", \"event_id\": \"eddbf05f1b88400888471fe848af8b04\", \"progress_data\": [{\"index\": 8, \"length\": 20, \"unit\": \"steps\", \"progress\": null, \"desc\": null}]}\n",
            "\n",
            "data: {\"msg\": \"progress\", \"event_id\": \"eddbf05f1b88400888471fe848af8b04\", \"progress_data\": [{\"index\": 9, \"length\": 20, \"unit\": \"steps\", \"progress\": null, \"desc\": null}]}\n",
            "\n",
            "data: {\"msg\": \"progress\", \"event_id\": \"eddbf05f1b88400888471fe848af8b04\", \"progress_data\": [{\"index\": 10, \"length\": 20, \"unit\": \"steps\", \"progress\": null, \"desc\": null}]}\n",
            "\n",
            "data: {\"msg\": \"progress\", \"event_id\": \"eddbf05f1b88400888471fe848af8b04\", \"progress_data\": [{\"index\": 11, \"length\": 20, \"unit\": \"steps\", \"progress\": null, \"desc\": null}]}\n",
            "\n",
            "data: {\"msg\": \"progress\", \"event_id\": \"eddbf05f1b88400888471fe848af8b04\", \"progress_data\": [{\"index\": 12, \"length\": 20, \"unit\": \"steps\", \"progress\": null, \"desc\": null}]}\n",
            "\n",
            "data: {\"msg\": \"progress\", \"event_id\": \"eddbf05f1b88400888471fe848af8b04\", \"progress_data\": [{\"index\": 13, \"length\": 20, \"unit\": \"steps\", \"progress\": null, \"desc\": null}]}\n",
            "\n",
            "data: {\"msg\": \"progress\", \"event_id\": \"eddbf05f1b88400888471fe848af8b04\", \"progress_data\": [{\"index\": 14, \"length\": 20, \"unit\": \"steps\", \"progress\": null, \"desc\": null}]}\n",
            "\n",
            "data: {\"msg\": \"progress\", \"event_id\": \"eddbf05f1b88400888471fe848af8b04\", \"progress_data\": [{\"index\": 15, \"length\": 20, \"unit\": \"steps\", \"progress\": null, \"desc\": null}]}\n",
            "\n",
            "data: {\"msg\": \"progress\", \"event_id\": \"eddbf05f1b88400888471fe848af8b04\", \"progress_data\": [{\"index\": 16, \"length\": 20, \"unit\": \"steps\", \"progress\": null, \"desc\": null}]}\n",
            "\n",
            "data: {\"msg\": \"progress\", \"event_id\": \"eddbf05f1b88400888471fe848af8b04\", \"progress_data\": [{\"index\": 17, \"length\": 20, \"unit\": \"steps\", \"progress\": null, \"desc\": null}]}\n",
            "\n",
            "data: {\"msg\": \"progress\", \"event_id\": \"eddbf05f1b88400888471fe848af8b04\", \"progress_data\": [{\"index\": 18, \"length\": 20, \"unit\": \"steps\", \"progress\": null, \"desc\": null}]}\n",
            "\n",
            "data: {\"msg\": \"progress\", \"event_id\": \"eddbf05f1b88400888471fe848af8b04\", \"progress_data\": [{\"index\": 19, \"length\": 20, \"unit\": \"steps\", \"progress\": null, \"desc\": null}]}\n",
            "\n",
            "data: {\"msg\": \"progress\", \"event_id\": \"eddbf05f1b88400888471fe848af8b04\", \"progress_data\": []}\n",
            "\n",
            "data: {\"msg\": \"progress\", \"event_id\": \"eddbf05f1b88400888471fe848af8b04\", \"progress_data\": []}\n",
            "\n",
            "data: {\"msg\": \"process_completed\", \"event_id\": \"eddbf05f1b88400888471fe848af8b04\", \"output\": {\"data\": [{\"path\": \"/tmp/gradio/08cdb68a933a25a38f1176e494871c19efdde350/image.png\", \"url\": null, \"size\": null, \"orig_name\": \"image.png\", \"mime_type\": null}, {\"visible\": true, \"__type__\": \"update\"}, {\"visible\": true, \"__type__\": \"update\"}, 1749606885], \"is_generating\": false, \"duration\": 8.003976345062256, \"average_duration\": 8.2322984698648}, \"success\": true}\n",
            "\n",
            "\n"
          ]
        }
      ]
    },
    {
      "cell_type": "code",
      "source": [
        "import json\n",
        "\n",
        "text = response.text\n",
        "for line in text.split('\\n'):\n",
        "    if line.startswith('data:'):\n",
        "        json_data = line.replace('data:', '').strip()\n",
        "        data = json.loads(json_data)\n",
        "        if data.get('msg') == 'process_completed':\n",
        "            path = data.get('output', {}).get('data', [{}])[0].get('path')\n",
        "            if path:\n",
        "                print(\"Path:\", path)\n",
        "                path_img = path\n",
        "                break\n"
      ],
      "metadata": {
        "colab": {
          "base_uri": "https://localhost:8080/"
        },
        "id": "zvAHPvZMOlAs",
        "outputId": "366ab669-8365-4d88-bf1c-aa3a84f87973"
      },
      "execution_count": 66,
      "outputs": [
        {
          "output_type": "stream",
          "name": "stdout",
          "text": [
            "Path: /tmp/gradio/08cdb68a933a25a38f1176e494871c19efdde350/image.png\n"
          ]
        }
      ]
    },
    {
      "cell_type": "code",
      "source": [
        "import requests\n",
        "\n",
        "url = 'https://ap123-illusiondiffusion.hf.space/--replicas/a4gtd/file=' + path_img\n",
        "\n",
        "response = requests.get(url)\n",
        "\n",
        "if response.status_code == 200:\n",
        "    with open('image.png', 'wb') as f:\n",
        "        f.write(response.content)\n",
        "    print(\"Image saved successfully.\")\n",
        "else:\n",
        "    print(\"Error:\", response.status_code)\n"
      ],
      "metadata": {
        "colab": {
          "base_uri": "https://localhost:8080/"
        },
        "id": "F-hu68B_P_MF",
        "outputId": "2b57485d-ff0f-4971-a7f5-8b3ba36c15d2"
      },
      "execution_count": 67,
      "outputs": [
        {
          "output_type": "stream",
          "name": "stdout",
          "text": [
            "Image saved successfully.\n"
          ]
        }
      ]
    }
  ]
}